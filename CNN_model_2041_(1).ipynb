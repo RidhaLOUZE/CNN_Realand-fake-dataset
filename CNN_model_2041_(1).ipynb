{
  "cells": [
    {
      "cell_type": "markdown",
      "metadata": {
        "id": "view-in-github",
        "colab_type": "text"
      },
      "source": [
        "<a href=\"https://colab.research.google.com/github/RidhaLOUZE/CNN_Realand-fake-dataset/blob/main/CNN_model_2041_(1).ipynb\" target=\"_parent\"><img src=\"https://colab.research.google.com/assets/colab-badge.svg\" alt=\"Open In Colab\"/></a>"
      ]
    },
    {
      "metadata": {
        "_uuid": "d629ff2d2480ee46fbb7e2d37f6b5fab8052498a",
        "_cell_guid": "79c7e3d0-c299-4dcb-8224-4455121ee9b0",
        "trusted": true,
        "id": "Tv3Sy0r-pEQ7",
        "outputId": "821c0b2d-d6a0-4324-82d7-25d4068ef5fe",
        "colab": {
          "base_uri": "https://localhost:8080/"
        }
      },
      "cell_type": "code",
      "source": [
        "!pip install keras-vggface\n",
        "!pip install keras_preprocessing"
      ],
      "execution_count": null,
      "outputs": [
        {
          "output_type": "stream",
          "name": "stdout",
          "text": [
            "Looking in indexes: https://pypi.org/simple, https://us-python.pkg.dev/colab-wheels/public/simple/\n",
            "Requirement already satisfied: keras-vggface in /usr/local/lib/python3.7/dist-packages (0.6)\n",
            "Requirement already satisfied: keras in /usr/local/lib/python3.7/dist-packages (from keras-vggface) (2.8.0)\n",
            "Requirement already satisfied: six>=1.9.0 in /usr/local/lib/python3.7/dist-packages (from keras-vggface) (1.15.0)\n",
            "Requirement already satisfied: pyyaml in /usr/local/lib/python3.7/dist-packages (from keras-vggface) (3.13)\n",
            "Requirement already satisfied: pillow in /usr/local/lib/python3.7/dist-packages (from keras-vggface) (7.1.2)\n",
            "Requirement already satisfied: scipy>=0.14 in /usr/local/lib/python3.7/dist-packages (from keras-vggface) (1.4.1)\n",
            "Requirement already satisfied: h5py in /usr/local/lib/python3.7/dist-packages (from keras-vggface) (3.1.0)\n",
            "Requirement already satisfied: numpy>=1.9.1 in /usr/local/lib/python3.7/dist-packages (from keras-vggface) (1.21.6)\n",
            "Requirement already satisfied: cached-property in /usr/local/lib/python3.7/dist-packages (from h5py->keras-vggface) (1.5.2)\n",
            "Looking in indexes: https://pypi.org/simple, https://us-python.pkg.dev/colab-wheels/public/simple/\n",
            "Requirement already satisfied: keras_preprocessing in /usr/local/lib/python3.7/dist-packages (1.1.2)\n",
            "Requirement already satisfied: numpy>=1.9.1 in /usr/local/lib/python3.7/dist-packages (from keras_preprocessing) (1.21.6)\n",
            "Requirement already satisfied: six>=1.9.0 in /usr/local/lib/python3.7/dist-packages (from keras_preprocessing) (1.15.0)\n"
          ]
        }
      ]
    },
    {
      "cell_type": "code",
      "source": [
        "from google.colab import drive\n",
        "drive.mount('/content/drive')"
      ],
      "metadata": {
        "colab": {
          "base_uri": "https://localhost:8080/"
        },
        "id": "cnPwGxJTLRkt",
        "outputId": "0c51b70b-f9c0-45f4-9f9f-6027839ccc57"
      },
      "execution_count": null,
      "outputs": [
        {
          "output_type": "stream",
          "name": "stdout",
          "text": [
            "Mounted at /content/drive\n"
          ]
        }
      ]
    },
    {
      "metadata": {
        "trusted": true,
        "id": "QWcVyCvxpEQ_",
        "outputId": "3152eb87-d338-4789-ed19-98515dc3d024",
        "colab": {
          "base_uri": "https://localhost:8080/"
        }
      },
      "cell_type": "code",
      "source": [
        "!pip install opencv-python\n",
        "!pip install --user tqdm"
      ],
      "execution_count": null,
      "outputs": [
        {
          "output_type": "stream",
          "name": "stdout",
          "text": [
            "Looking in indexes: https://pypi.org/simple, https://us-python.pkg.dev/colab-wheels/public/simple/\n",
            "Requirement already satisfied: opencv-python in /usr/local/lib/python3.7/dist-packages (4.1.2.30)\n",
            "Requirement already satisfied: numpy>=1.14.5 in /usr/local/lib/python3.7/dist-packages (from opencv-python) (1.21.6)\n",
            "Looking in indexes: https://pypi.org/simple, https://us-python.pkg.dev/colab-wheels/public/simple/\n",
            "Requirement already satisfied: tqdm in /usr/local/lib/python3.7/dist-packages (4.64.0)\n"
          ]
        }
      ]
    },
    {
      "cell_type": "code",
      "source": [
        "! pip install -q kaggle\n",
        "from google.colab import files\n",
        "files.upload()\n",
        "! mkdir ~/.kaggle\n",
        "! cp kaggle.json ~/.kaggle/\n",
        "! chmod 600 ~/.kaggle/kaggle.json\n",
        "! kaggle datasets download -d ciplab/real-and-fake-face-detection\n",
        "! mkdir 2041"
      ],
      "metadata": {
        "colab": {
          "resources": {
            "http://localhost:8080/nbextensions/google.colab/files.js": {
              "data": "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",
              "ok": true,
              "headers": [
                [
                  "content-type",
                  "application/javascript"
                ]
              ],
              "status": 200,
              "status_text": ""
            }
          },
          "base_uri": "https://localhost:8080/",
          "height": 123
        },
        "id": "pjVa4r_HMrB3",
        "outputId": "5f44fcba-e495-4405-8099-3f69d985d7a3"
      },
      "execution_count": null,
      "outputs": [
        {
          "output_type": "display_data",
          "data": {
            "text/plain": [
              "<IPython.core.display.HTML object>"
            ],
            "text/html": [
              "\n",
              "     <input type=\"file\" id=\"files-eace04e3-c6d2-4a64-9e0f-e7357ee3d8da\" name=\"files[]\" multiple disabled\n",
              "        style=\"border:none\" />\n",
              "     <output id=\"result-eace04e3-c6d2-4a64-9e0f-e7357ee3d8da\">\n",
              "      Upload widget is only available when the cell has been executed in the\n",
              "      current browser session. Please rerun this cell to enable.\n",
              "      </output>\n",
              "      <script src=\"/nbextensions/google.colab/files.js\"></script> "
            ]
          },
          "metadata": {}
        },
        {
          "output_type": "stream",
          "name": "stdout",
          "text": [
            "Saving kaggle.json to kaggle.json\n",
            "Downloading real-and-fake-face-detection.zip to /content\n",
            " 99% 425M/431M [00:02<00:00, 165MB/s]\n",
            "100% 431M/431M [00:02<00:00, 172MB/s]\n"
          ]
        }
      ]
    },
    {
      "cell_type": "code",
      "source": [
        "! unzip /content/real-and-fake-face-detection.zip -d 2041"
      ],
      "metadata": {
        "id": "lobhobT2NSGe"
      },
      "execution_count": null,
      "outputs": []
    },
    {
      "metadata": {
        "trusted": true,
        "id": "JSqwM1ZRpERA"
      },
      "cell_type": "code",
      "source": [
        "%matplotlib inline\n",
        "import matplotlib.pyplot as plt\n",
        "from PIL import Image\n",
        "import numpy as np\n",
        "import math\n",
        "import copy\n",
        "import numpy as np\n",
        "import keras\n",
        "from keras import applications\n",
        "from keras.applications import vgg16,imagenet_utils\n",
        "\n",
        "from keras.models import Sequential, Model\n",
        "from keras.layers import Input, Dense, Flatten, Dropout, Activation, Lambda, Permute, Reshape\n",
        "from keras.layers import Convolution2D, ZeroPadding2D, MaxPooling2D\n",
        "#from keras_vggface.vggface import VGGFace\n",
        "#from keras_vggface import utils\n",
        "from keras.preprocessing import image\n",
        "from keras.preprocessing.image import ImageDataGenerator\n",
        "\n",
        "from sklearn.datasets import load_files       \n",
        "from keras.utils import np_utils\n",
        "import numpy as np\n",
        "from glob import glob\n",
        "import pandas as pd\n",
        "import cv2\n",
        "import scipy.misc\n",
        "import matplotlib.pyplot as plt\n",
        "from tqdm import tqdm"
      ],
      "execution_count": null,
      "outputs": []
    },
    {
      "cell_type": "code",
      "source": [
        "! pip install split-folders\n",
        "\n",
        "import splitfolders\n",
        "input_folder = '/content/2041/real_and_fake_face/'\n",
        "splitfolders.ratio(input_folder, output=\"/content/split_real-and-fake-detection(2)\", \n",
        "                   seed=42, ratio=(.8, .1,.1), \n",
        "                   group_prefix=None) # default values\n"
      ],
      "metadata": {
        "id": "33Y2kuOaNPmy",
        "colab": {
          "base_uri": "https://localhost:8080/"
        },
        "outputId": "daf4024a-948d-48cd-9c8b-41fc916d989d"
      },
      "execution_count": null,
      "outputs": [
        {
          "output_type": "stream",
          "name": "stdout",
          "text": [
            "Looking in indexes: https://pypi.org/simple, https://us-python.pkg.dev/colab-wheels/public/simple/\n",
            "Requirement already satisfied: split-folders in /usr/local/lib/python3.7/dist-packages (0.5.1)\n"
          ]
        },
        {
          "output_type": "stream",
          "name": "stderr",
          "text": [
            "Copying files: 2041 files [00:00, 3300.22 files/s]\n"
          ]
        }
      ]
    },
    {
      "cell_type": "code",
      "source": [
        "import os\n",
        "print(len(os.listdir(\"/content/split_real-and-fake-detection(1)/test/training_fake\")))\n",
        "print(len(os.listdir(\"/content/split_real-and-fake-detection(1)/valid/training_real\")))"
      ],
      "metadata": {
        "colab": {
          "base_uri": "https://localhost:8080/"
        },
        "id": "15eSaWb7bFi_",
        "outputId": "9415a41e-bd42-4a67-d756-ccbcf86be7fd"
      },
      "execution_count": null,
      "outputs": [
        {
          "output_type": "stream",
          "name": "stdout",
          "text": [
            "96\n",
            "216\n"
          ]
        }
      ]
    },
    {
      "metadata": {
        "id": "lgzlB0IfpERD"
      },
      "cell_type": "markdown",
      "source": [
        "# load dataset\n"
      ]
    },
    {
      "metadata": {
        "trusted": true,
        "id": "Tk1fxRgBpERG",
        "colab": {
          "base_uri": "https://localhost:8080/"
        },
        "outputId": "ad8d1018-c61c-4c09-e02f-ae171b98e9bd"
      },
      "cell_type": "code",
      "source": [
        "base_path = '/content/split_real-and-fake-detection(2)/'\n",
        "image_gen = ImageDataGenerator(rescale=1./255.)\n",
        "batch_size = 64\n",
        "train_flow = image_gen.flow_from_directory(\n",
        "    base_path + 'train/',\n",
        "    target_size=(224, 224),\n",
        "    batch_size=batch_size,\n",
        "    class_mode='binary'\n",
        ")\n",
        "valid_flow = image_gen.flow_from_directory(\n",
        "    base_path + 'valid/',\n",
        "    target_size=(224, 224),\n",
        "    batch_size=batch_size,\n",
        "    class_mode='binary'\n",
        ")\n",
        "test_flow = image_gen.flow_from_directory(\n",
        "    base_path + 'test/',\n",
        "    target_size=(224, 224),\n",
        "    batch_size=1,\n",
        "    shuffle=False,\n",
        "    class_mode='binary'\n",
        ")"
      ],
      "execution_count": null,
      "outputs": [
        {
          "output_type": "stream",
          "name": "stdout",
          "text": [
            "Found 1632 images belonging to 2 classes.\n",
            "Found 204 images belonging to 2 classes.\n",
            "Found 205 images belonging to 2 classes.\n"
          ]
        }
      ]
    },
    {
      "metadata": {
        "id": "MIkXOX6UpERI"
      },
      "cell_type": "markdown",
      "source": [
        "# Custom Architecture"
      ]
    },
    {
      "metadata": {
        "trusted": true,
        "id": "WOqK1dw1pERK",
        "outputId": "599b9878-928c-489f-8b44-4c9aa0c5b745",
        "colab": {
          "base_uri": "https://localhost:8080/"
        }
      },
      "cell_type": "code",
      "source": [
        "from keras.layers import Conv2D, MaxPooling2D, GlobalAveragePooling2D\n",
        "from keras.layers import Dropout, Flatten, Dense\n",
        "from keras.models import Sequential\n",
        "from keras.layers import BatchNormalization\n",
        "\"\"\"\n",
        "    Propsoed CNN architecture.\n",
        "    \n",
        "\"\"\"\n",
        "\n",
        "model = Sequential()\n",
        "\n",
        "# Pamameters Initialization\n",
        "input_shape = (224,224,3)\n",
        "activation = 'relu'\n",
        "padding = 'same'\n",
        "droprate = 0.1\n",
        "epsilon=0.001\n",
        "\n",
        "model = Sequential()\n",
        "model.add(BatchNormalization(input_shape=input_shape))\n",
        "model.add(Conv2D(filters=16, kernel_size=3, activation=activation, padding=padding))\n",
        "model.add(MaxPooling2D(pool_size=2))\n",
        "model.add(BatchNormalization(epsilon=epsilon))\n",
        "\n",
        "\n",
        "model.add(Conv2D(filters=32, kernel_size=3, activation=activation, padding=padding))\n",
        "model.add(MaxPooling2D(pool_size=2))\n",
        "model.add(BatchNormalization(epsilon=epsilon))\n",
        "model.add(Dropout(droprate))\n",
        "\n",
        "model.add(Conv2D(filters=64, kernel_size=3, activation=activation, padding=padding))\n",
        "model.add(MaxPooling2D(pool_size=2))\n",
        "model.add(BatchNormalization(epsilon=epsilon))\n",
        "model.add(Dropout(droprate))\n",
        "\n",
        "model.add(Conv2D(filters=128, kernel_size=3, activation=activation, padding=padding))\n",
        "model.add(MaxPooling2D(pool_size=2))\n",
        "model.add(BatchNormalization(epsilon=epsilon))\n",
        "model.add(Dropout(droprate))\n",
        "\n",
        "model.add(Conv2D(filters=256, kernel_size=3, activation=activation, padding=padding))\n",
        "model.add(MaxPooling2D(pool_size=2))\n",
        "model.add(BatchNormalization(epsilon=epsilon))\n",
        "model.add(Dropout(droprate))\n",
        "\n",
        "model.add(Conv2D(filters=512, kernel_size=3, activation=activation, padding=padding))\n",
        "model.add(MaxPooling2D(pool_size=2))\n",
        "model.add(BatchNormalization(epsilon=epsilon))\n",
        "model.add(Dropout(droprate))\n",
        "\n",
        "model.add(GlobalAveragePooling2D())\n",
        "#model.add(Flatten())\n",
        "#model.add(Dense(256, kernel_initializer='glorot_normal', activation='relu'))\n",
        "#model.add(Dropout(0.5))\n",
        "          \n",
        "#model.add(Dense(128, kernel_initializer='glorot_normal', activation='relu'))\n",
        "#model.add(Dropout(0.5))\n",
        "#model.add(Dropout(droprate))\n",
        "model.add(Dense(1, activation='sigmoid'))\n",
        "\n",
        "model.summary() # Summary of the architecture"
      ],
      "execution_count": null,
      "outputs": [
        {
          "output_type": "stream",
          "name": "stdout",
          "text": [
            "Model: \"sequential_1\"\n",
            "_________________________________________________________________\n",
            " Layer (type)                Output Shape              Param #   \n",
            "=================================================================\n",
            " batch_normalization (BatchN  (None, 224, 224, 3)      12        \n",
            " ormalization)                                                   \n",
            "                                                                 \n",
            " conv2d (Conv2D)             (None, 224, 224, 16)      448       \n",
            "                                                                 \n",
            " max_pooling2d (MaxPooling2D  (None, 112, 112, 16)     0         \n",
            " )                                                               \n",
            "                                                                 \n",
            " batch_normalization_1 (Batc  (None, 112, 112, 16)     64        \n",
            " hNormalization)                                                 \n",
            "                                                                 \n",
            " conv2d_1 (Conv2D)           (None, 112, 112, 32)      4640      \n",
            "                                                                 \n",
            " max_pooling2d_1 (MaxPooling  (None, 56, 56, 32)       0         \n",
            " 2D)                                                             \n",
            "                                                                 \n",
            " batch_normalization_2 (Batc  (None, 56, 56, 32)       128       \n",
            " hNormalization)                                                 \n",
            "                                                                 \n",
            " dropout (Dropout)           (None, 56, 56, 32)        0         \n",
            "                                                                 \n",
            " conv2d_2 (Conv2D)           (None, 56, 56, 64)        18496     \n",
            "                                                                 \n",
            " max_pooling2d_2 (MaxPooling  (None, 28, 28, 64)       0         \n",
            " 2D)                                                             \n",
            "                                                                 \n",
            " batch_normalization_3 (Batc  (None, 28, 28, 64)       256       \n",
            " hNormalization)                                                 \n",
            "                                                                 \n",
            " dropout_1 (Dropout)         (None, 28, 28, 64)        0         \n",
            "                                                                 \n",
            " conv2d_3 (Conv2D)           (None, 28, 28, 128)       73856     \n",
            "                                                                 \n",
            " max_pooling2d_3 (MaxPooling  (None, 14, 14, 128)      0         \n",
            " 2D)                                                             \n",
            "                                                                 \n",
            " batch_normalization_4 (Batc  (None, 14, 14, 128)      512       \n",
            " hNormalization)                                                 \n",
            "                                                                 \n",
            " dropout_2 (Dropout)         (None, 14, 14, 128)       0         \n",
            "                                                                 \n",
            " conv2d_4 (Conv2D)           (None, 14, 14, 256)       295168    \n",
            "                                                                 \n",
            " max_pooling2d_4 (MaxPooling  (None, 7, 7, 256)        0         \n",
            " 2D)                                                             \n",
            "                                                                 \n",
            " batch_normalization_5 (Batc  (None, 7, 7, 256)        1024      \n",
            " hNormalization)                                                 \n",
            "                                                                 \n",
            " dropout_3 (Dropout)         (None, 7, 7, 256)         0         \n",
            "                                                                 \n",
            " conv2d_5 (Conv2D)           (None, 7, 7, 512)         1180160   \n",
            "                                                                 \n",
            " max_pooling2d_5 (MaxPooling  (None, 3, 3, 512)        0         \n",
            " 2D)                                                             \n",
            "                                                                 \n",
            " batch_normalization_6 (Batc  (None, 3, 3, 512)        2048      \n",
            " hNormalization)                                                 \n",
            "                                                                 \n",
            " dropout_4 (Dropout)         (None, 3, 3, 512)         0         \n",
            "                                                                 \n",
            " global_average_pooling2d (G  (None, 512)              0         \n",
            " lobalAveragePooling2D)                                          \n",
            "                                                                 \n",
            " dense (Dense)               (None, 1)                 513       \n",
            "                                                                 \n",
            "=================================================================\n",
            "Total params: 1,577,325\n",
            "Trainable params: 1,575,303\n",
            "Non-trainable params: 2,022\n",
            "_________________________________________________________________\n"
          ]
        }
      ]
    },
    {
      "metadata": {
        "id": "f8mRSVe-pERQ"
      },
      "cell_type": "markdown",
      "source": [
        "# Model Compile"
      ]
    },
    {
      "metadata": {
        "trusted": true,
        "id": "LBv3V1uCpERS"
      },
      "cell_type": "code",
      "source": [
        "# Parameters Initialization\n",
        "from tensorflow.keras.optimizers import SGD,Adam,Adadelta\n",
        "\n",
        "#opt = rmsprop(lr=0.0001, decay=1e-6)\n",
        "\n",
        "model.compile(loss='binary_crossentropy',optimizer=Adam(0.0001), metrics=['accuracy'])"
      ],
      "execution_count": null,
      "outputs": []
    },
    {
      "metadata": {
        "id": "QV5M2mSFpERV"
      },
      "cell_type": "markdown",
      "source": [
        "# Train Custom Model"
      ]
    },
    {
      "metadata": {
        "trusted": true,
        "id": "I_gYYAB7pERW",
        "outputId": "6aa1a1b4-1e3e-4df2-ac39-bb1036701f04",
        "colab": {
          "base_uri": "https://localhost:8080/"
        }
      },
      "cell_type": "code",
      "source": [
        "train_steps = 40000//batch_size\n",
        "valid_steps = 5000//batch_size\n",
        "history = model.fit_generator(\n",
        "    train_flow,\n",
        "    epochs=20,\n",
        "    steps_per_epoch = 23,\n",
        "    validation_data = valid_flow,\n",
        "    validation_steps = 5\n",
        ")\n"
      ],
      "execution_count": null,
      "outputs": [
        {
          "output_type": "stream",
          "name": "stderr",
          "text": [
            "/usr/local/lib/python3.7/dist-packages/ipykernel_launcher.py:8: UserWarning: `Model.fit_generator` is deprecated and will be removed in a future version. Please use `Model.fit`, which supports generators.\n",
            "  \n"
          ]
        },
        {
          "output_type": "stream",
          "name": "stdout",
          "text": [
            "Epoch 1/20\n",
            "23/23 [==============================] - 21s 896ms/step - loss: 0.4795 - accuracy: 0.7861 - val_loss: 1.5776 - val_accuracy: 0.5375\n",
            "Epoch 2/20\n",
            "23/23 [==============================] - 20s 896ms/step - loss: 0.4625 - accuracy: 0.7903 - val_loss: 0.9311 - val_accuracy: 0.5156\n",
            "Epoch 3/20\n",
            "23/23 [==============================] - 20s 883ms/step - loss: 0.4439 - accuracy: 0.8111 - val_loss: 1.2543 - val_accuracy: 0.5281\n",
            "Epoch 4/20\n",
            "23/23 [==============================] - 21s 907ms/step - loss: 0.4257 - accuracy: 0.8285 - val_loss: 0.8154 - val_accuracy: 0.5344\n",
            "Epoch 5/20\n",
            "23/23 [==============================] - 20s 888ms/step - loss: 0.4239 - accuracy: 0.8326 - val_loss: 0.7775 - val_accuracy: 0.5781\n",
            "Epoch 6/20\n",
            "23/23 [==============================] - 20s 893ms/step - loss: 0.4076 - accuracy: 0.8313 - val_loss: 0.8244 - val_accuracy: 0.5531\n",
            "Epoch 7/20\n",
            "23/23 [==============================] - 21s 901ms/step - loss: 0.3833 - accuracy: 0.8604 - val_loss: 0.8503 - val_accuracy: 0.5688\n",
            "Epoch 8/20\n",
            "23/23 [==============================] - 21s 937ms/step - loss: 0.3830 - accuracy: 0.8687 - val_loss: 0.9113 - val_accuracy: 0.5813\n",
            "Epoch 9/20\n",
            "23/23 [==============================] - 21s 918ms/step - loss: 0.3708 - accuracy: 0.8542 - val_loss: 0.5566 - val_accuracy: 0.7125\n",
            "Epoch 10/20\n",
            "23/23 [==============================] - 21s 911ms/step - loss: 0.3505 - accuracy: 0.8611 - val_loss: 0.8095 - val_accuracy: 0.6000\n",
            "Epoch 11/20\n",
            "23/23 [==============================] - 21s 917ms/step - loss: 0.3291 - accuracy: 0.8920 - val_loss: 0.5660 - val_accuracy: 0.7188\n",
            "Epoch 12/20\n",
            "23/23 [==============================] - 20s 885ms/step - loss: 0.3199 - accuracy: 0.8882 - val_loss: 0.5104 - val_accuracy: 0.7594\n",
            "Epoch 13/20\n",
            "23/23 [==============================] - 20s 887ms/step - loss: 0.3062 - accuracy: 0.8958 - val_loss: 0.5460 - val_accuracy: 0.7437\n",
            "Epoch 14/20\n",
            "23/23 [==============================] - 21s 896ms/step - loss: 0.2839 - accuracy: 0.9226 - val_loss: 0.5481 - val_accuracy: 0.7406\n",
            "Epoch 15/20\n",
            "23/23 [==============================] - 20s 881ms/step - loss: 0.2809 - accuracy: 0.9028 - val_loss: 0.5447 - val_accuracy: 0.7406\n",
            "Epoch 16/20\n",
            "23/23 [==============================] - 20s 894ms/step - loss: 0.2554 - accuracy: 0.9264 - val_loss: 0.5386 - val_accuracy: 0.7594\n",
            "Epoch 17/20\n",
            "23/23 [==============================] - 21s 900ms/step - loss: 0.2499 - accuracy: 0.9292 - val_loss: 0.4967 - val_accuracy: 0.7688\n",
            "Epoch 18/20\n",
            "23/23 [==============================] - 21s 898ms/step - loss: 0.2538 - accuracy: 0.9257 - val_loss: 0.4809 - val_accuracy: 0.7875\n",
            "Epoch 19/20\n",
            "23/23 [==============================] - 20s 877ms/step - loss: 0.2440 - accuracy: 0.9285 - val_loss: 0.5578 - val_accuracy: 0.7563\n",
            "Epoch 20/20\n",
            "23/23 [==============================] - 20s 886ms/step - loss: 0.2272 - accuracy: 0.9458 - val_loss: 0.4395 - val_accuracy: 0.8188\n"
          ]
        }
      ]
    },
    {
      "cell_type": "code",
      "source": [
        "model.save(\"/content/drive/MyDrive/projects/H5/CNN_model_2041.h5\") # save model"
      ],
      "metadata": {
        "id": "DG1oSZkpNMJL"
      },
      "execution_count": null,
      "outputs": []
    },
    {
      "cell_type": "code",
      "source": [
        "\"\"\"\n",
        "Plot the training and validation loss\n",
        "epochs - list of epoch numbers\n",
        "loss - training loss for each epoch\n",
        "val_loss - validation loss for each epoch\n",
        "\"\"\"\n",
        "epochs = 20\n",
        "loss = [0.4795, 0.4625,0.4439,0.4257,0.4239,0.4076,0.3833,0.3830,0.3708,0.3505,0.3291,0.3199,0.3062,0.2839,0.2554,0.2499,0.2538,0.2440,0.2272]\n",
        "val_loss = [1.5776 0.9311 1.2543 0.8154 0.7775 0.8244 0.8503 0.9113 0.5566 0.8095 0.5660 0.5104 0.5460 0.5481 0.5447 0.5386- 0.4967 0.4809 0.5578 0.4395]\n",
        "\n",
        "def plot_loss(epochs, loss, val_loss):\n",
        "    plt.plot(epochs, loss, 'bo', label='Training Loss')\n",
        "    plt.plot(epochs, val_loss, 'orange', label = 'Validation Loss')\n",
        "    plt.title('Training and Validation Loss')\n",
        "    plt.legend()\n",
        "    plt.show()\n",
        "\"\"\"\n",
        "Plot the training and validation accuracy\n",
        "epochs - list of epoch numbers\n",
        "acc - training accuracy for each epoch\n",
        "val_acc - validation accuracy for each epoch\n",
        "\"\"\"\n",
        "acc = [0.7861 0.7903 0.8111 0.8285 0.8326- 0.8313 0.8604- 0.8687- 0.8542- 0.8611 0.8920- 0.8882- 0.8958 0.9226- 0.9028 0.9264 0.9292- 0.9257 0.9285 0.9458]\n",
        "val_acc = [0.5375 0.5156 0.5281 0.5344 0.5781 0.5531 0.5688 0.5813 0.7125 0.6000 0.7188 0.7594 0.7437 0.7406 0.7406 0.7594 0.7688 0.7875 0.7563 0.8188]\n",
        "def plot_accuracy(epochs, acc, val_acc):\n",
        "    plt.plot(epochs, acc, 'bo', label='Training accuracy')\n",
        "    plt.plot(epochs, val_acc, 'orange', label = 'Validation accuracy')\n",
        "    plt.title('Training and Validation Accuracy')\n",
        "    plt.legend()\n",
        "    plt.show()"
      ],
      "metadata": {
        "id": "mX4E1-SESzAB"
      },
      "execution_count": null,
      "outputs": []
    },
    {
      "metadata": {
        "trusted": true,
        "id": "VgJalLgKpERa"
      },
      "cell_type": "code",
      "source": [
        "acc = history.history['accuracy']\n",
        "val_acc = history.history['val_accuracy']\n",
        "loss = history.history['loss']\n",
        "val_loss = history.history['val_loss']"
      ],
      "execution_count": null,
      "outputs": []
    },
    {
      "metadata": {
        "trusted": true,
        "id": "q4PO87XapERa",
        "colab": {
          "base_uri": "https://localhost:8080/",
          "height": 545
        },
        "outputId": "5af8ca28-5167-4315-e7e6-f32e8fe9e236"
      },
      "cell_type": "code",
      "source": [
        "plot_loss(range(1, len(loss) + 1), loss, val_loss)\n",
        "plot_accuracy(range(1, len(loss) + 1), acc, val_acc)"
      ],
      "execution_count": null,
      "outputs": [
        {
          "output_type": "display_data",
          "data": {
            "text/plain": [
              "<Figure size 432x288 with 1 Axes>"
            ],
            "image/png": "[encoded data removed]"
          },
          "metadata": {
            "needs_background": "light"
          }
        },
        {
          "output_type": "display_data",
          "data": {
            "text/plain": [
              "<Figure size 432x288 with 1 Axes>"
            ],
            "image/png": "[encoded data removed]"
          },
          "metadata": {
            "needs_background": "light"
          }
        }
      ]
    },
    {
      "metadata": {
        "id": "lvDlMtsxpERb"
      },
      "cell_type": "markdown",
      "source": [
        "# Predict and Evaluate"
      ]
    },
    {
      "metadata": {
        "trusted": true,
        "id": "Dr6mMyFIpERb"
      },
      "cell_type": "code",
      "source": [
        "y_pred = model.predict(test_flow)\n",
        "y_test = test_flow.classes"
      ],
      "execution_count": null,
      "outputs": []
    },
    {
      "metadata": {
        "trusted": true,
        "id": "Qb2xM7I9pERc",
        "colab": {
          "base_uri": "https://localhost:8080/"
        },
        "outputId": "193c5d7b-9ba5-40b9-f767-3fc3ad3aa6bf"
      },
      "cell_type": "code",
      "source": [
        "from sklearn import metrics\n",
        "print(\"ROC AUC Score:\", metrics.roc_auc_score(y_test, y_pred))\n",
        "print(\"AP Score:\", metrics.average_precision_score(y_test, y_pred))\n",
        "print()\n",
        "print(metrics.classification_report(y_test, y_pred > 0.5))"
      ],
      "execution_count": null,
      "outputs": [
        {
          "output_type": "stream",
          "name": "stdout",
          "text": [
            "ROC AUC Score: 0.6683868501529052\n",
            "AP Score: 0.6807360897124131\n",
            "\n",
            "              precision    recall  f1-score   support\n",
            "\n",
            "           0       0.63      0.47      0.54        96\n",
            "           1       0.62      0.76      0.68       109\n",
            "\n",
            "    accuracy                           0.62       205\n",
            "   macro avg       0.63      0.62      0.61       205\n",
            "weighted avg       0.63      0.62      0.62       205\n",
            "\n"
          ]
        }
      ]
    }
  ],
  "metadata": {
    "kernelspec": {
      "language": "python",
      "display_name": "Python 3",
      "name": "python3"
    },
    "language_info": {
      "pygments_lexer": "ipython3",
      "nbconvert_exporter": "python",
      "version": "3.6.4",
      "file_extension": ".py",
      "codemirror_mode": {
        "name": "ipython",
        "version": 3
      },
      "name": "python",
      "mimetype": "text/x-python"
    },
    "colab": {
      "name": "CNN_model_2041 (1).ipynb",
      "provenance": [],
      "collapsed_sections": [],
      "include_colab_link": true
    },
    "accelerator": "GPU",
    "gpuClass": "standard"
  },
  "nbformat": 4,
  "nbformat_minor": 0
}